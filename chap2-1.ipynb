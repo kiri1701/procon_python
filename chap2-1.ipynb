{
 "cells": [
  {
   "cell_type": "markdown",
   "metadata": {},
   "source": [
    "# 全探索\n",
    "## 再帰関数\n",
    "関数の中で同じ関数を呼び出す  \n",
    "ループでも書くことができることが多いが，途中の探索数が決まっていない時は再帰が便利  \n"
   ]
  },
  {
   "cell_type": "code",
   "execution_count": 1,
   "metadata": {},
   "outputs": [],
   "source": [
    "def fact(n):\n",
    "    if n == 0:\n",
    "        return 1\n",
    "    else:\n",
    "        return n * fact(n - 1)"
   ]
  },
  {
   "cell_type": "code",
   "execution_count": 2,
   "metadata": {},
   "outputs": [
    {
     "output_type": "execute_result",
     "data": {
      "text/plain": "6"
     },
     "metadata": {},
     "execution_count": 2
    }
   ],
   "source": [
    "fact(3)"
   ]
  },
  {
   "cell_type": "markdown",
   "metadata": {},
   "source": [
    "メモ化をうまく使うことで，計算を高速化できる"
   ]
  },
  {
   "cell_type": "code",
   "execution_count": 3,
   "metadata": {},
   "outputs": [],
   "source": [
    "memo = [None for _ in range(11)]\n",
    "def fib(n):\n",
    "    if n <= 1:\n",
    "        return n\n",
    "    if memo[n] is not None:\n",
    "        return memo[n]\n",
    "    memo[n] = fib(n - 1) + fib(n - 2)\n",
    "    return memo[n]"
   ]
  },
  {
   "cell_type": "code",
   "execution_count": 4,
   "metadata": {},
   "outputs": [
    {
     "output_type": "execute_result",
     "data": {
      "text/plain": "55"
     },
     "metadata": {},
     "execution_count": 4
    }
   ],
   "source": [
    "fib(10)"
   ]
  },
  {
   "cell_type": "code",
   "execution_count": 5,
   "metadata": {},
   "outputs": [
    {
     "output_type": "execute_result",
     "data": {
      "text/plain": "[None, None, 1, 2, 3, 5, 8, 13, 21, 34, 55]"
     },
     "metadata": {},
     "execution_count": 5
    }
   ],
   "source": [
    "memo"
   ]
  },
  {
   "cell_type": "markdown",
   "metadata": {},
   "source": [
    "スタックとキュー  \n",
    "pushとpopができるデータ構造  \n",
    "collections.dequeに二つとも実装されており，これが速いらしい  \n",
    "\n",
    "スタックはLIFO  \n",
    "append(), pop()\n",
    "\n",
    "キューはFIFO\n",
    "append(), popleft()\n",
    "\n",
    "dequeは両端へのアクセスが高速  \n",
    "要素の追加・取り出し（削除）・アクセス（取得）が両端のみ → deque  \n",
    "両端以外の要素に頻繁にアクセス → リスト  \n",
    "\n",
    "\n"
   ]
  },
  {
   "cell_type": "code",
   "execution_count": 9,
   "metadata": {},
   "outputs": [
    {
     "output_type": "stream",
     "name": "stdout",
     "text": "2\n1\n1\n2\n"
    }
   ],
   "source": [
    "from collections import deque\n",
    "s = deque()\n",
    "s.append(1)\n",
    "s.append(2)\n",
    "print(s.pop())\n",
    "print(s.pop())\n",
    "\n",
    "s.append(1)\n",
    "s.append(2)\n",
    "print(s.popleft())\n",
    "print(s.popleft())"
   ]
  },
  {
   "cell_type": "markdown",
   "metadata": {},
   "source": [
    "## DFS(幅優先探索)\n",
    "状態をできるかぎり進めていく．行き詰まったら一つ戻るを繰り返す．  \n",
    "スタックを使う．\n",
    "\n",
    "部分話問題  \n",
    "整数$a_1, a_2, \\dots, a_n$が与えられます．その中からいくつか選び，その和をちょうどkにすることができるかを判定しなさい．  \n",
    "制約:  \n",
    "- $1 \\leq n \\leq 20$\n",
    "- $-10^8 \\leq a_i \\leq 10^8$\n",
    "- $-10^8 \\leq k \\leq 10^8$\n",
    "\n",
    "$a_1$から順に加えるかどうかを決めていき，n個全てについて決め終わったら，その和がkに等しいかを判定する．  \n",
    "状態数が$2^{n+1}$程度なので，計算量は$O(2^n)$になる．"
   ]
  },
  {
   "cell_type": "code",
   "execution_count": 12,
   "metadata": {},
   "outputs": [
    {
     "output_type": "stream",
     "name": "stdout",
     "text": "Yes\nNo\n"
    }
   ],
   "source": [
    "def solve(n, a, k):\n",
    "    def dfs(i, total):\n",
    "        if i == n:\n",
    "            return total == k\n",
    "        if dfs(i + 1, total):\n",
    "            return True\n",
    "        if dfs(i + 1, total + a[i]):\n",
    "            return True\n",
    "        return False\n",
    "\n",
    "    if dfs(0, 0):\n",
    "        print('Yes')\n",
    "    else:\n",
    "        print('No')\n",
    "\n",
    "n = 4\n",
    "a = [1, 2, 4, 7]\n",
    "k = 13\n",
    "solve(n, a, k)\n",
    "\n",
    "n = 4\n",
    "a = [1, 2, 4, 7]\n",
    "k = 15\n",
    "solve(n, a, k)"
   ]
  },
  {
   "cell_type": "markdown",
   "metadata": {},
   "source": [
    "Lake Counting  \n",
    "大きさがN*Mの庭がある．水たまりは8近傍で隣接している場合につながっているとみなす．全部で幾つの水たまりがあるかを判定する．  \n",
    "\n",
    "解法  \n",
    "Wを見つけたら，つながっている部分を.に置き換える操作をDFSで行う．このDFSを何回実行したかが答えになる． "
   ]
  },
  {
   "cell_type": "code",
   "execution_count": 27,
   "metadata": {},
   "outputs": [
    {
     "output_type": "stream",
     "name": "stdout",
     "text": "3\n"
    }
   ],
   "source": [
    "def solve(n, m, niwa):\n",
    "    def dfs(i, j):\n",
    "        niwa[i][j] = '.'\n",
    "        for dx in [-1, 0, 1]:\n",
    "            for dy in [-1, 0, 1]:\n",
    "                nx = i + dx\n",
    "                ny = j + dy\n",
    "                if (0 <= nx < n) and (0 <= ny < m) and (niwa[nx][ny] == 'W'):\n",
    "                    dfs(nx, ny)\n",
    "\n",
    "    res = 0\n",
    "    for i in range(n):\n",
    "        for j in range(m):\n",
    "            if niwa[i][j] == 'W':\n",
    "                dfs(i, j)\n",
    "                res += 1\n",
    "    print(res)\n",
    "\n",
    "n=10\n",
    "m=12\n",
    "niwa = '''\n",
    "W........WW.\n",
    ".WWW.....WWW\n",
    "....WW...WW.\n",
    ".........WW.\n",
    ".........W..\n",
    "..W......W..\n",
    ".W.W.....WW.\n",
    "W.W.W.....W.\n",
    ".W.W......W.\n",
    "..W.......W.\n",
    "'''.split()\n",
    "niwa = [list(s) for s in niwa]\n",
    "\n",
    "solve(n, m, niwa)"
   ]
  },
  {
   "cell_type": "markdown",
   "metadata": {},
   "source": [
    "## BFS(幅優先探索)\n",
    "\n",
    "初めの状態に近い方から探索していく．  \n",
    "キューを使う\n",
    "\n",
    "迷路の最短路  \n",
    "大きさがN*Mの迷路が与えられる．迷路は通路と壁から出来ており，1ターンに隣接する上下左右4マスの通路へ移動することができる．  \n",
    "スタートからゴールまで移動するのに必要な最小のターン数を求めなさい．スタートからゴールまで移動できると仮定．"
   ]
  },
  {
   "cell_type": "code",
   "execution_count": 28,
   "metadata": {},
   "outputs": [
    {
     "output_type": "execute_result",
     "data": {
      "text/plain": "[[inf, inf], [inf, inf], [inf, inf]]"
     },
     "metadata": {},
     "execution_count": 28
    }
   ],
   "source": [
    "[[float('inf') for _ in range(2)] for _ in range(3)]"
   ]
  },
  {
   "cell_type": "code",
   "execution_count": 20,
   "metadata": {},
   "outputs": [
    {
     "output_type": "error",
     "ename": "ValueError",
     "evalue": "empty separator",
     "traceback": [
      "\u001b[0;31m---------------------------------------------------------------------------\u001b[0m",
      "\u001b[0;31mValueError\u001b[0m                                Traceback (most recent call last)",
      "\u001b[0;32m<ipython-input-20-14cab08494ff>\u001b[0m in \u001b[0;36m<module>\u001b[0;34m\u001b[0m\n\u001b[1;32m     31\u001b[0m \u001b[0;34m...\u001b[0m\u001b[0;34m.\u001b[0m\u001b[0;31m#...G#\u001b[0m\u001b[0;34m\u001b[0m\u001b[0;34m\u001b[0m\u001b[0m\n\u001b[1;32m     32\u001b[0m '''.split()\n\u001b[0;32m---> 33\u001b[0;31m \u001b[0mmeiro\u001b[0m \u001b[0;34m=\u001b[0m \u001b[0;34m[\u001b[0m\u001b[0ms\u001b[0m\u001b[0;34m.\u001b[0m\u001b[0msplit\u001b[0m\u001b[0;34m(\u001b[0m\u001b[0;34m''\u001b[0m\u001b[0;34m)\u001b[0m \u001b[0;32mfor\u001b[0m \u001b[0ms\u001b[0m \u001b[0;32min\u001b[0m \u001b[0mmeiro\u001b[0m\u001b[0;34m]\u001b[0m\u001b[0;34m\u001b[0m\u001b[0;34m\u001b[0m\u001b[0m\n\u001b[0m\u001b[1;32m     34\u001b[0m \u001b[0mprint\u001b[0m\u001b[0;34m(\u001b[0m\u001b[0mmeiro\u001b[0m\u001b[0;34m)\u001b[0m\u001b[0;34m\u001b[0m\u001b[0;34m\u001b[0m\u001b[0m\n",
      "\u001b[0;32m<ipython-input-20-14cab08494ff>\u001b[0m in \u001b[0;36m<listcomp>\u001b[0;34m(.0)\u001b[0m\n\u001b[1;32m     31\u001b[0m \u001b[0;34m...\u001b[0m\u001b[0;34m.\u001b[0m\u001b[0;31m#...G#\u001b[0m\u001b[0;34m\u001b[0m\u001b[0;34m\u001b[0m\u001b[0m\n\u001b[1;32m     32\u001b[0m '''.split()\n\u001b[0;32m---> 33\u001b[0;31m \u001b[0mmeiro\u001b[0m \u001b[0;34m=\u001b[0m \u001b[0;34m[\u001b[0m\u001b[0ms\u001b[0m\u001b[0;34m.\u001b[0m\u001b[0msplit\u001b[0m\u001b[0;34m(\u001b[0m\u001b[0;34m''\u001b[0m\u001b[0;34m)\u001b[0m \u001b[0;32mfor\u001b[0m \u001b[0ms\u001b[0m \u001b[0;32min\u001b[0m \u001b[0mmeiro\u001b[0m\u001b[0;34m]\u001b[0m\u001b[0;34m\u001b[0m\u001b[0;34m\u001b[0m\u001b[0m\n\u001b[0m\u001b[1;32m     34\u001b[0m \u001b[0mprint\u001b[0m\u001b[0;34m(\u001b[0m\u001b[0mmeiro\u001b[0m\u001b[0;34m)\u001b[0m\u001b[0;34m\u001b[0m\u001b[0;34m\u001b[0m\u001b[0m\n",
      "\u001b[0;31mValueError\u001b[0m: empty separator"
     ]
    }
   ],
   "source": [
    "def solve(n, m, meiro):\n",
    "    def bfs():\n",
    "        \n",
    "\n",
    "    d = [[float('inf') for _ in range(m)] for _ in range(n)]\n",
    "\n",
    "\n",
    "nef smlve(n, m, niwa):\n",
    "    def dfs(i, j):\n",
    "        niwa[i][j] = '.'\n",
    "        for dx in [-1, 0, 1]:\n",
    "            for dy in [-1, 0, 1]:\n",
    "                nx = i + dx\n",
    "                ny = j + dy\n",
    "                if (0 <= nx <= n) and (0 <= ny <= m) and (niwa[nx][ny] == 'W'):\n",
    "                    dfs(dx, dy)\n",
    "\n",
    "    res = 0\n",
    "    for i in range(n):\n",
    "        for j in range(m):\n",
    "            if niwa[i][j] == 'W':\n",
    "                dfs(i, j)\n",
    "                res += 1\n",
    "    print(res)\n",
    "\n",
    "N=10\n",
    "M=10\n",
    "meiro = '''\n",
    "#S######.#\n",
    "......#..#\n",
    ".#.##.##.#\n",
    ".#........\n",
    "##.##.####\n",
    "....#....#\n",
    ".#######.#\n",
    "....#.....\n",
    ".####.###.\n",
    "....#...G#\n",
    "'''.split()\n",
    "meiro = [s.split]\n",
    "\n",
    "solve(n, m, niwa)]\n",
    "\n",
    "solve(n, m, niwa)"
   ]
  },
  {
   "cell_type": "code",
   "execution_count": null,
   "metadata": {},
   "outputs": [],
   "source": []
  }
 ],
 "metadata": {
  "language_info": {
   "codemirror_mode": {
    "name": "ipython",
    "version": 3
   },
   "file_extension": ".py",
   "mimetype": "text/x-python",
   "name": "python",
   "nbconvert_exporter": "python",
   "pygments_lexer": "ipython3",
   "version": "3.7.7-final"
  },
  "orig_nbformat": 2,
  "kernelspec": {
   "name": "python37764bite7a1e4be49ef4342b5ede5b5b9ab9cf4",
   "display_name": "Python 3.7.7 64-bit"
  }
 },
 "nbformat": 4,
 "nbformat_minor": 2
}